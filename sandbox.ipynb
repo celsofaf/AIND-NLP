{
 "cells": [
  {
   "cell_type": "code",
   "execution_count": 2,
   "metadata": {},
   "outputs": [
    {
     "name": "stdout",
     "output_type": "stream",
     "text": [
      "beautifulsoup4>=4.5.3\n",
      "html5lib>=0.9999999\n",
      "h5py>=2.7.0\n",
      "ipython>=5.2.0\n",
      "jupyter>=1.0.0\n",
      "Keras>=2.0.5\n",
      "matplotlib>=2.0.2\n",
      "numpy>=1.13.0\n",
      "nltk>=3.2.2\n",
      "pandas>=0.19.2\n",
      "requests>=2.13.0\n",
      "scikit-learn>=0.18.1\n",
      "tensorflow>=1.2.0\n",
      "wordcloud>=1.3.1\n",
      "\n"
     ]
    }
   ],
   "source": [
    "with open('requirements.txt') as f:\n",
    "    text = f.read()\n",
    "print(text)"
   ]
  },
  {
   "cell_type": "code",
   "execution_count": 3,
   "metadata": {
    "collapsed": true
   },
   "outputs": [],
   "source": [
    "import os"
   ]
  },
  {
   "cell_type": "code",
   "execution_count": 4,
   "metadata": {},
   "outputs": [
    {
     "data": {
      "text/plain": [
       "['.gitignore',\n",
       " 'requirements.txt',\n",
       " 'sentiment_analysis.ipynb',\n",
       " 'text_processing.ipynb',\n",
       " 'cache',\n",
       " 'CODEOWNERS',\n",
       " 'Untitled.ipynb',\n",
       " '.ipynb_checkpoints',\n",
       " 'data',\n",
       " 'README.md',\n",
       " 'text_processing-Copy1.ipynb',\n",
       " '.git']"
      ]
     },
     "execution_count": 4,
     "metadata": {},
     "output_type": "execute_result"
    }
   ],
   "source": [
    "os.listdir()"
   ]
  },
  {
   "cell_type": "code",
   "execution_count": 8,
   "metadata": {
    "collapsed": true
   },
   "outputs": [],
   "source": [
    "from os.path import isfile"
   ]
  },
  {
   "cell_type": "code",
   "execution_count": 9,
   "metadata": {},
   "outputs": [
    {
     "data": {
      "text/plain": [
       "{'.git': False,\n",
       " '.gitignore': True,\n",
       " '.ipynb_checkpoints': False,\n",
       " 'CODEOWNERS': True,\n",
       " 'README.md': True,\n",
       " 'Untitled.ipynb': True,\n",
       " 'cache': False,\n",
       " 'data': False,\n",
       " 'requirements.txt': True,\n",
       " 'sentiment_analysis.ipynb': True,\n",
       " 'text_processing-Copy1.ipynb': True,\n",
       " 'text_processing.ipynb': True}"
      ]
     },
     "execution_count": 9,
     "metadata": {},
     "output_type": "execute_result"
    }
   ],
   "source": [
    "{entry: isfile(entry) for entry in os.listdir()}"
   ]
  },
  {
   "cell_type": "code",
   "execution_count": 10,
   "metadata": {
    "collapsed": true
   },
   "outputs": [],
   "source": [
    "import glob"
   ]
  },
  {
   "cell_type": "code",
   "execution_count": 12,
   "metadata": {},
   "outputs": [
    {
     "data": {
      "text/plain": [
       "['requirements.txt',\n",
       " 'sentiment_analysis.ipynb',\n",
       " 'text_processing.ipynb',\n",
       " 'cache',\n",
       " 'CODEOWNERS',\n",
       " 'Untitled.ipynb',\n",
       " 'data',\n",
       " 'README.md',\n",
       " 'text_processing-Copy1.ipynb']"
      ]
     },
     "execution_count": 12,
     "metadata": {},
     "output_type": "execute_result"
    }
   ],
   "source": [
    "glob.glob('*')"
   ]
  },
  {
   "cell_type": "code",
   "execution_count": 19,
   "metadata": {},
   "outputs": [
    {
     "data": {
      "text/plain": [
       "['requirements.txt',\n",
       " 'sentiment_analysis.ipynb',\n",
       " 'text_processing.ipynb',\n",
       " 'CODEOWNERS',\n",
       " 'Untitled.ipynb',\n",
       " 'README.md',\n",
       " 'text_processing-Copy1.ipynb']"
      ]
     },
     "execution_count": 19,
     "metadata": {},
     "output_type": "execute_result"
    }
   ],
   "source": [
    "[f for f in glob.glob('*') if isfile(f)]"
   ]
  },
  {
   "cell_type": "code",
   "execution_count": 23,
   "metadata": {
    "collapsed": true
   },
   "outputs": [],
   "source": [
    "text = 'Isso mesmo. Aquilo outro ali! Isso é verdade? Sim...'"
   ]
  },
  {
   "cell_type": "code",
   "execution_count": 24,
   "metadata": {},
   "outputs": [
    {
     "data": {
      "text/plain": [
       "['Isso mesmo', ' Aquilo outro ali! Isso é verdade? Sim', '', '', '']"
      ]
     },
     "execution_count": 24,
     "metadata": {},
     "output_type": "execute_result"
    }
   ],
   "source": [
    "text.split('.')"
   ]
  },
  {
   "cell_type": "code",
   "execution_count": 22,
   "metadata": {
    "collapsed": true
   },
   "outputs": [],
   "source": [
    "import re"
   ]
  },
  {
   "cell_type": "code",
   "execution_count": 30,
   "metadata": {},
   "outputs": [
    {
     "name": "stdout",
     "output_type": "stream",
     "text": [
      "['Isso mesmo', ' Aquilo outro ali', ' Isso é verdade', ' Sim', '', '', '']\n"
     ]
    }
   ],
   "source": [
    "senttext = re.split(r'[.?!]', text)\n",
    "print(senttext)"
   ]
  },
  {
   "cell_type": "code",
   "execution_count": 33,
   "metadata": {},
   "outputs": [
    {
     "name": "stdout",
     "output_type": "stream",
     "text": [
      "['Isso mesmo', 'Aquilo outro ali', 'Isso é verdade', 'Sim']\n"
     ]
    }
   ],
   "source": [
    "senttext = [s.strip() for s in senttext if s != '']\n",
    "print(senttext)"
   ]
  },
  {
   "cell_type": "code",
   "execution_count": 39,
   "metadata": {},
   "outputs": [
    {
     "name": "stdout",
     "output_type": "stream",
     "text": [
      "['Isso', 'mesmo', '', 'Aquilo', 'outro', 'ali!', 'Isso', 'é', 'verdade?', 'Sim', '', '', '']\n"
     ]
    }
   ],
   "source": [
    "sent = 'Isso aqui, \"aquilo\" \\'ali\\'. E aí; foi lá.'\n",
    "sent = re.split(r'[ ,.;\"\\']', text)\n",
    "print(sent)"
   ]
  },
  {
   "cell_type": "code",
   "execution_count": 40,
   "metadata": {},
   "outputs": [
    {
     "data": {
      "text/plain": [
       "['Hello', ',', \"I'm\", 'a', 'string', '!']"
      ]
     },
     "execution_count": 40,
     "metadata": {},
     "output_type": "execute_result"
    }
   ],
   "source": [
    "re.findall(r\"[\\w']+|[.,!?;]\", \"Hello, I'm a string!\")"
   ]
  },
  {
   "cell_type": "code",
   "execution_count": 52,
   "metadata": {},
   "outputs": [
    {
     "data": {
      "text/plain": [
       "['Hello', ',', \"I'm\", 'a', 'string', '!']"
      ]
     },
     "execution_count": 52,
     "metadata": {},
     "output_type": "execute_result"
    }
   ],
   "source": [
    "re.findall(r\"[\\w']+|[.,!?;]\", \"Hello, \\\"I'm\\\" a string!\")"
   ]
  },
  {
   "cell_type": "code",
   "execution_count": 43,
   "metadata": {},
   "outputs": [
    {
     "data": {
      "text/plain": [
       "\"'a'\""
      ]
     },
     "execution_count": 43,
     "metadata": {},
     "output_type": "execute_result"
    }
   ],
   "source": [
    "\"\\'a\\'\""
   ]
  },
  {
   "cell_type": "code",
   "execution_count": 53,
   "metadata": {
    "collapsed": true
   },
   "outputs": [],
   "source": [
    "from collections import Counter"
   ]
  },
  {
   "cell_type": "code",
   "execution_count": 86,
   "metadata": {},
   "outputs": [
    {
     "data": {
      "text/plain": [
       "Counter({'Aquilo': 1,\n",
       "         'Isso': 2,\n",
       "         'Sim...': 1,\n",
       "         'ali': 1,\n",
       "         'mesmo': 2,\n",
       "         'mesmo.': 1,\n",
       "         'não': 1,\n",
       "         'outro': 1,\n",
       "         'verdade': 1,\n",
       "         'verdade?': 1,\n",
       "         'é': 2,\n",
       "         'é!': 1})"
      ]
     },
     "execution_count": 86,
     "metadata": {},
     "output_type": "execute_result"
    }
   ],
   "source": [
    "text = 'Isso mesmo. Aquilo outro ali mesmo é verdade mesmo não é! Isso é verdade? Sim...'\n",
    "counts = Counter(text.split())\n",
    "counts"
   ]
  },
  {
   "cell_type": "code",
   "execution_count": 56,
   "metadata": {},
   "outputs": [
    {
     "data": {
      "text/plain": [
       "collections.Counter"
      ]
     },
     "execution_count": 56,
     "metadata": {},
     "output_type": "execute_result"
    }
   ],
   "source": [
    "type(counts)"
   ]
  },
  {
   "cell_type": "code",
   "execution_count": 57,
   "metadata": {},
   "outputs": [
    {
     "data": {
      "text/plain": [
       "1"
      ]
     },
     "execution_count": 57,
     "metadata": {},
     "output_type": "execute_result"
    }
   ],
   "source": [
    "counts['outro']"
   ]
  },
  {
   "cell_type": "code",
   "execution_count": 88,
   "metadata": {},
   "outputs": [
    {
     "name": "stdout",
     "output_type": "stream",
     "text": [
      "['Isso', 'mesmo', '.', 'Aquilo', 'outro', 'ali', 'mesmo', 'é', 'verdade', 'mesmo', 'não', 'é', '!', 'Isso', 'é', 'verdade', '?', 'Sim', '.', '.', '.']\n",
      "\n",
      "[('Isso', 'mesmo'), ('mesmo', '.'), ('.', 'Aquilo'), ('Aquilo', 'outro'), ('outro', 'ali'), ('ali', 'mesmo'), ('mesmo', 'é'), ('é', 'verdade'), ('verdade', 'mesmo'), ('mesmo', 'não'), ('não', 'é'), ('é', '!'), ('!', 'Isso'), ('Isso', 'é'), ('é', 'verdade'), ('verdade', '?'), ('?', 'Sim'), ('Sim', '.'), ('.', '.'), ('.', '.')]\n",
      "\n",
      "Counter({('é', 'verdade'): 2, ('.', '.'): 2, ('Isso', 'mesmo'): 1, ('mesmo', '.'): 1, ('.', 'Aquilo'): 1, ('Aquilo', 'outro'): 1, ('outro', 'ali'): 1, ('ali', 'mesmo'): 1, ('mesmo', 'é'): 1, ('verdade', 'mesmo'): 1, ('mesmo', 'não'): 1, ('não', 'é'): 1, ('é', '!'): 1, ('!', 'Isso'): 1, ('Isso', 'é'): 1, ('verdade', '?'): 1, ('?', 'Sim'): 1, ('Sim', '.'): 1})\n"
     ]
    }
   ],
   "source": [
    "tokens = re.findall(r\"[\\w']+|[.,!?;]\", text)\n",
    "print(tokens)\n",
    "print()\n",
    "bigrams = [(tokens[i], tokens[i+1]) for i in range(len(tokens)-1)]\n",
    "print(bigrams)\n",
    "print()\n",
    "c_bigram = Counter(bigrams)\n",
    "print(c_bigram)"
   ]
  },
  {
   "cell_type": "code",
   "execution_count": 89,
   "metadata": {
    "scrolled": true
   },
   "outputs": [
    {
     "data": {
      "text/plain": [
       "{'!': {'Isso': 1},\n",
       " '.': {'.': 2, 'Aquilo': 1},\n",
       " '?': {'Sim': 1},\n",
       " 'Aquilo': {'outro': 1},\n",
       " 'Isso': {'mesmo': 1, 'é': 1},\n",
       " 'Sim': {'.': 1},\n",
       " 'ali': {'mesmo': 1},\n",
       " 'mesmo': {'.': 1, 'não': 1, 'é': 1},\n",
       " 'não': {'é': 1},\n",
       " 'outro': {'ali': 1},\n",
       " 'verdade': {'?': 1, 'mesmo': 1},\n",
       " 'é': {'!': 1, 'verdade': 2}}"
      ]
     },
     "execution_count": 89,
     "metadata": {},
     "output_type": "execute_result"
    }
   ],
   "source": [
    "p_bigrams = dict()\n",
    "for i, t in enumerate(tokens):\n",
    "    if i == len(tokens)-1:\n",
    "        break\n",
    "    if t not in p_bigrams.keys():\n",
    "        p_bigrams[t] = dict()\n",
    "    if tokens[i+1] in p_bigrams[t].keys():\n",
    "        p_bigrams[t][tokens[i+1]] += 1\n",
    "    else:\n",
    "        p_bigrams[t][tokens[i+1]] = 1\n",
    "p_bigrams"
   ]
  },
  {
   "cell_type": "code",
   "execution_count": 80,
   "metadata": {},
   "outputs": [
    {
     "name": "stdout",
     "output_type": "stream",
     "text": [
      "None\n"
     ]
    },
    {
     "ename": "AttributeError",
     "evalue": "'NoneType' object has no attribute 'get'",
     "output_type": "error",
     "traceback": [
      "\u001b[0;31m---------------------------------------------------------------------------\u001b[0m",
      "\u001b[0;31mAttributeError\u001b[0m                            Traceback (most recent call last)",
      "\u001b[0;32m<ipython-input-80-8cac622cd9d0>\u001b[0m in \u001b[0;36m<module>\u001b[0;34m()\u001b[0m\n\u001b[1;32m      1\u001b[0m \u001b[0md\u001b[0m \u001b[0;34m=\u001b[0m \u001b[0mdict\u001b[0m\u001b[0;34m(\u001b[0m\u001b[0;34m)\u001b[0m\u001b[0;34m\u001b[0m\u001b[0m\n\u001b[1;32m      2\u001b[0m \u001b[0mprint\u001b[0m\u001b[0;34m(\u001b[0m\u001b[0md\u001b[0m\u001b[0;34m.\u001b[0m\u001b[0mget\u001b[0m\u001b[0;34m(\u001b[0m\u001b[0;34m'a'\u001b[0m\u001b[0;34m)\u001b[0m\u001b[0;34m)\u001b[0m\u001b[0;34m\u001b[0m\u001b[0m\n\u001b[0;32m----> 3\u001b[0;31m \u001b[0mprint\u001b[0m\u001b[0;34m(\u001b[0m\u001b[0md\u001b[0m\u001b[0;34m.\u001b[0m\u001b[0mget\u001b[0m\u001b[0;34m(\u001b[0m\u001b[0;34m'a'\u001b[0m\u001b[0;34m)\u001b[0m\u001b[0;34m.\u001b[0m\u001b[0mget\u001b[0m\u001b[0;34m(\u001b[0m\u001b[0;34m'b'\u001b[0m\u001b[0;34m)\u001b[0m\u001b[0;34m)\u001b[0m\u001b[0;34m\u001b[0m\u001b[0m\n\u001b[0m",
      "\u001b[0;31mAttributeError\u001b[0m: 'NoneType' object has no attribute 'get'"
     ]
    }
   ],
   "source": []
  },
  {
   "cell_type": "code",
   "execution_count": 73,
   "metadata": {},
   "outputs": [],
   "source": [
    "#p_bigrams = {w: dict(Counter(t for t in tokens if (w, t) in bigrams)) for w in set(tokens[:-1])}\n",
    "p_bigrams = {w: dict(Counter(t for (w, t) in bigrams)) for w in set(tokens[:-1])}"
   ]
  },
  {
   "cell_type": "code",
   "execution_count": 83,
   "metadata": {},
   "outputs": [
    {
     "data": {
      "text/plain": [
       "dict_keys(['verdade', 'Sim', 'outro', 'Aquilo', '!', 'mesmo', 'Isso', 'ali', 'é', '?', '.'])"
      ]
     },
     "execution_count": 83,
     "metadata": {},
     "output_type": "execute_result"
    }
   ],
   "source": [
    "p_bigrams.keys()"
   ]
  },
  {
   "cell_type": "code",
   "execution_count": null,
   "metadata": {
    "collapsed": true
   },
   "outputs": [],
   "source": []
  }
 ],
 "metadata": {
  "kernelspec": {
   "display_name": "Python 3",
   "language": "python",
   "name": "python3"
  },
  "language_info": {
   "codemirror_mode": {
    "name": "ipython",
    "version": 3
   },
   "file_extension": ".py",
   "mimetype": "text/x-python",
   "name": "python",
   "nbconvert_exporter": "python",
   "pygments_lexer": "ipython3",
   "version": "3.6.2"
  }
 },
 "nbformat": 4,
 "nbformat_minor": 2
}
